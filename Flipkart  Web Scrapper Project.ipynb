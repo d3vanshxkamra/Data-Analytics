{
 "cells": [
  {
   "cell_type": "code",
   "execution_count": 2,
   "id": "f214cc6f",
   "metadata": {
    "scrolled": true
   },
   "outputs": [
    {
     "name": "stdout",
     "output_type": "stream",
     "text": [
      "Collecting requests\n",
      "  Downloading requests-2.31.0-py3-none-any.whl (62 kB)\n",
      "                                              0.0/62.6 kB ? eta -:--:--\n",
      "     ------------------                     30.7/62.6 kB 660.6 kB/s eta 0:00:01\n",
      "     -------------------------------------  61.4/62.6 kB 656.4 kB/s eta 0:00:01\n",
      "     -------------------------------------- 62.6/62.6 kB 480.1 kB/s eta 0:00:00\n",
      "Collecting charset-normalizer<4,>=2 (from requests)\n",
      "  Downloading charset_normalizer-3.3.0-cp311-cp311-win_amd64.whl (97 kB)\n",
      "                                              0.0/97.8 kB ? eta -:--:--\n",
      "     ---------------------------------------- 97.8/97.8 kB 1.9 MB/s eta 0:00:00\n",
      "Requirement already satisfied: idna<4,>=2.5 in c:\\users\\dkamr\\appdata\\local\\programs\\python\\python311\\lib\\site-packages (from requests) (3.4)\n",
      "Collecting urllib3<3,>=1.21.1 (from requests)\n",
      "  Downloading urllib3-2.0.6-py3-none-any.whl (123 kB)\n",
      "                                              0.0/123.8 kB ? eta -:--:--\n",
      "     -------------------------------------- 123.8/123.8 kB 3.7 MB/s eta 0:00:00\n",
      "Collecting certifi>=2017.4.17 (from requests)\n",
      "  Downloading certifi-2023.7.22-py3-none-any.whl (158 kB)\n",
      "                                              0.0/158.3 kB ? eta -:--:--\n",
      "     -------------------------------------- 158.3/158.3 kB 9.3 MB/s eta 0:00:00\n",
      "Installing collected packages: urllib3, charset-normalizer, certifi, requests\n",
      "Successfully installed certifi-2023.7.22 charset-normalizer-3.3.0 requests-2.31.0 urllib3-2.0.6\n"
     ]
    },
    {
     "name": "stderr",
     "output_type": "stream",
     "text": [
      "\n",
      "[notice] A new release of pip is available: 23.1.2 -> 23.2.1\n",
      "[notice] To update, run: python.exe -m pip install --upgrade pip\n"
     ]
    },
    {
     "name": "stdout",
     "output_type": "stream",
     "text": [
      "Requirement already satisfied: requests in c:\\users\\dkamr\\appdata\\local\\programs\\python\\python311\\lib\\site-packages (2.31.0)\n",
      "Requirement already satisfied: charset-normalizer<4,>=2 in c:\\users\\dkamr\\appdata\\local\\programs\\python\\python311\\lib\\site-packages (from requests) (3.3.0)\n",
      "Requirement already satisfied: idna<4,>=2.5 in c:\\users\\dkamr\\appdata\\local\\programs\\python\\python311\\lib\\site-packages (from requests) (3.4)\n",
      "Requirement already satisfied: urllib3<3,>=1.21.1 in c:\\users\\dkamr\\appdata\\local\\programs\\python\\python311\\lib\\site-packages (from requests) (2.0.6)\n",
      "Requirement already satisfied: certifi>=2017.4.17 in c:\\users\\dkamr\\appdata\\local\\programs\\python\\python311\\lib\\site-packages (from requests) (2023.7.22)\n"
     ]
    },
    {
     "name": "stderr",
     "output_type": "stream",
     "text": [
      "\n",
      "[notice] A new release of pip is available: 23.1.2 -> 23.2.1\n",
      "[notice] To update, run: python.exe -m pip install --upgrade pip\n"
     ]
    }
   ],
   "source": [
    "from bs4 import BeautifulSoup\n",
    "!pip install requests\n",
    "!pip install requests\n",
    "\n",
    "import requests\n",
    "import smtplib\n",
    "import time \n",
    "import datetime"
   ]
  },
  {
   "cell_type": "code",
   "execution_count": 63,
   "id": "ccc35d1e",
   "metadata": {},
   "outputs": [
    {
     "name": "stdout",
     "output_type": "stream",
     "text": [
      "Sneaker Casual Shoes for Men | Soft Cushioned Insole, Slip-Resistance Sneakers For Men\n",
      "            \n",
      "            (Grey)\n",
      "1,119\n"
     ]
    }
   ],
   "source": [
    "URL = 'https://www.flipkart.com/red-tape-sneaker-casual-shoes-men-soft-cushioned-insole-slip-resistance-sneakers/p/itm373b03623e093?pid=SHOGMPPFZSPYM6H5&lid=LSTSHOGMPPFZSPYM6H5R6W3ZM&marketplace=FLIPKART&q=mens+sneakers&store=osp%2Fcil%2Fe1f&srno=s_1_6&otracker=search&otracker1=search&fm=Search&iid=d672bc04-b39f-4222-aec0-36bd33e3a88f.SHOGMPPFZSPYM6H5.SEARCH&ppt=sp&ppn=sp&ssid=k1fmuwjtsg0000001696862740482&qH=045dde3c49ad318f'\n",
    "\n",
    "headers = {\n",
    "    \"User-Agent\": \"Mozilla/5.0 (Windows NT 10.0; Win64; x64) AppleWebKit/537.36 (KHTML, like Gecko) Chrome/117.0.0.0 Safari/537.36 Edg/117.0.2045.60\",\n",
    "    \"Accept-Encoding\": \"gzip, deflate\",\n",
    "    \"Accept\": \"text/html,application/xhtml+xml,application/xml;q=0.9,*/*;q=0.8\",\n",
    "    \"DNT\": \"1\",\n",
    "    \"Connection\": \"close\",\n",
    "    \"Upgrade-Insecure-Requests\": \"1\"\n",
    "}\n",
    "    #headers = {\"User-Agent\": \"Mozilla/5.0 (Windows NT 10.0; Win64; x64) AppleWebKit/537.36 (KHTML, like Gecko) Chrome/78.0.3904.108 Safari/537.36\", }\n",
    "page = requests.get(URL,  headers=headers)\n",
    "           \n",
    "Soup1= BeautifulSoup(page.content, \"html.parser\")\n",
    "Soup2 = BeautifulSoup(Soup1.prettify(), \"html.parser\")\n",
    "Title = Soup2.find_all(\"span\", class_=\"B_NuCI\")\n",
    "\n",
    "price= Soup2.find_all(\"div\",class_=\"_30jeq3 _16Jk6d\")\n",
    "\n",
    "for Title in Title:\n",
    "    Title_text = Title.text.strip()\n",
    "    print(Title_text)\n",
    "for price in price:\n",
    "    price_text = price.text.strip()\n",
    "    price_text = str(price_text.replace('₹', ''))\n",
    "    print(price_text)"
   ]
  },
  {
   "cell_type": "code",
   "execution_count": 76,
   "id": "f68fb2c1",
   "metadata": {},
   "outputs": [],
   "source": [
    "import csv\n",
    "header = [('Title'),'Price', 'Date']\n",
    "data = [Title_text,price_text, today]\n",
    "\n",
    "with open('FlipkartWSDataset.csv' ,'w' , newline='', encoding='UTF8') as f:\n",
    "    writer = csv.writer(f)\n",
    "    writer.writerow(header)\n",
    "    writer.writerow(data)"
   ]
  },
  {
   "cell_type": "code",
   "execution_count": 77,
   "id": "e2fc43bd",
   "metadata": {},
   "outputs": [],
   "source": [
    "import datetime\n",
    "today = datetime.date.today()\n"
   ]
  },
  {
   "cell_type": "code",
   "execution_count": 80,
   "id": "94d98684",
   "metadata": {},
   "outputs": [
    {
     "data": {
      "text/html": [
       "<div>\n",
       "<style scoped>\n",
       "    .dataframe tbody tr th:only-of-type {\n",
       "        vertical-align: middle;\n",
       "    }\n",
       "\n",
       "    .dataframe tbody tr th {\n",
       "        vertical-align: top;\n",
       "    }\n",
       "\n",
       "    .dataframe thead th {\n",
       "        text-align: right;\n",
       "    }\n",
       "</style>\n",
       "<table border=\"1\" class=\"dataframe\">\n",
       "  <thead>\n",
       "    <tr style=\"text-align: right;\">\n",
       "      <th></th>\n",
       "      <th>Title</th>\n",
       "      <th>Price</th>\n",
       "      <th>Date</th>\n",
       "    </tr>\n",
       "  </thead>\n",
       "  <tbody>\n",
       "    <tr>\n",
       "      <th>0</th>\n",
       "      <td>Sneaker Casual Shoes for Men | Soft Cushioned ...</td>\n",
       "      <td>1,119</td>\n",
       "      <td>2023-10-10</td>\n",
       "    </tr>\n",
       "    <tr>\n",
       "      <th>1</th>\n",
       "      <td>Sneaker Casual Shoes for Men | Soft Cushioned ...</td>\n",
       "      <td>1,119</td>\n",
       "      <td>2023-10-10</td>\n",
       "    </tr>\n",
       "  </tbody>\n",
       "</table>\n",
       "</div>"
      ],
      "text/plain": [
       "                                               Title  Price        Date\n",
       "0  Sneaker Casual Shoes for Men | Soft Cushioned ...  1,119  2023-10-10\n",
       "1  Sneaker Casual Shoes for Men | Soft Cushioned ...  1,119  2023-10-10"
      ]
     },
     "execution_count": 80,
     "metadata": {},
     "output_type": "execute_result"
    }
   ],
   "source": [
    "import pandas as pd\n",
    "df = pd.read_csv(r\"C:\\Users\\dkamr\\Documents\\Untitled Folder\\FlipkartWSDataset.csv\" )\n",
    "df"
   ]
  },
  {
   "cell_type": "code",
   "execution_count": null,
   "id": "1950cea6",
   "metadata": {},
   "outputs": [],
   "source": []
  },
  {
   "cell_type": "code",
   "execution_count": 79,
   "id": "651e37fd",
   "metadata": {},
   "outputs": [],
   "source": [
    "with open('FlipkartWSDataset.csv' ,'a+' , newline='', encoding='UTF8') as f:\n",
    "    writer = csv.writer(f)\n",
    "    writer.writerow(data)"
   ]
  },
  {
   "cell_type": "code",
   "execution_count": 83,
   "id": "e3c06e27",
   "metadata": {},
   "outputs": [],
   "source": [
    "def check_price(): \n",
    "\n",
    "    URL = 'https://www.flipkart.com/red-tape-sneaker-casual-shoes-men-soft-cushioned-insole-slip-resistance-sneakers/p/itm373b03623e093?pid=SHOGMPPFZSPYM6H5&lid=LSTSHOGMPPFZSPYM6H5R6W3ZM&marketplace=FLIPKART&q=mens+sneakers&store=osp%2Fcil%2Fe1f&srno=s_1_6&otracker=search&otracker1=search&fm=Search&iid=d672bc04-b39f-4222-aec0-36bd33e3a88f.SHOGMPPFZSPYM6H5.SEARCH&ppt=sp&ppn=sp&ssid=k1fmuwjtsg0000001696862740482&qH=045dde3c49ad318f'\n",
    "headers = {\n",
    "    \"User-Agent\": \"Mozilla/5.0 (Windows NT 10.0; Win64; x64) AppleWebKit/537.36 (KHTML, like Gecko) Chrome/117.0.0.0 Safari/537.36 Edg/117.0.2045.60\",\n",
    "    \"Accept-Encoding\": \"gzip, deflate\",\n",
    "    \"Accept\": \"text/html,application/xhtml+xml,application/xml;q=0.9,*/*;q=0.8\",\n",
    "    \"DNT\": \"1\",\n",
    "    \"Connection\": \"close\",\n",
    "    \"Upgrade-Insecure-Requests\": \"1\"\n",
    "}\n",
    "    #headers = {\"User-Agent\": \"Mozilla/5.0 (Windows NT 10.0; Win64; x64) AppleWebKit/537.36 (KHTML, like Gecko) Chrome/78.0.3904.108 Safari/537.36\", }\n",
    "page = requests.get(URL,  headers=headers)\n",
    "           \n",
    "Soup1= BeautifulSoup(page.content, \"html.parser\")\n",
    "Soup2 = BeautifulSoup(Soup1.prettify(), \"html.parser\")\n",
    "Title = Soup2.find_all(\"span\", class_=\"B_NuCI\")\n",
    "\n",
    "price= Soup2.find_all(\"div\",class_=\"_30jeq3 _16Jk6d\")\n",
    "for Title in Title:\n",
    "    Title_text = Title.text.strip()\n",
    "for price in price:\n",
    "    price_text = price.text.strip()\n",
    "    price_text = str(price_text.replace('₹', ''))\n",
    "    import datetime\n",
    "today = datetime.date.today()\n",
    "import csv\n",
    "header = [('Title'),'Price', 'Date']\n",
    "data = [Title_text,price_text, today]\n",
    "with open('FlipkartWSDataset.csv' ,'a+' , newline='', encoding='UTF8') as f:\n",
    "    writer = csv.writer(f)\n",
    "    writer.writerow(data)"
   ]
  },
  {
   "cell_type": "code",
   "execution_count": 84,
   "id": "81aaff51",
   "metadata": {},
   "outputs": [
    {
     "ename": "KeyboardInterrupt",
     "evalue": "",
     "output_type": "error",
     "traceback": [
      "\u001b[1;31m---------------------------------------------------------------------------\u001b[0m",
      "\u001b[1;31mKeyboardInterrupt\u001b[0m                         Traceback (most recent call last)",
      "Cell \u001b[1;32mIn[84], line 3\u001b[0m\n\u001b[0;32m      1\u001b[0m \u001b[38;5;28;01mwhile\u001b[39;00m(\u001b[38;5;28;01mTrue\u001b[39;00m):\n\u001b[0;32m      2\u001b[0m     check_price()\n\u001b[1;32m----> 3\u001b[0m     \u001b[43mtime\u001b[49m\u001b[38;5;241;43m.\u001b[39;49m\u001b[43msleep\u001b[49m\u001b[43m(\u001b[49m\u001b[38;5;241;43m5\u001b[39;49m\u001b[43m)\u001b[49m\n",
      "\u001b[1;31mKeyboardInterrupt\u001b[0m: "
     ]
    }
   ],
   "source": [
    "while(True):\n",
    "    check_price()\n",
    "    time.sleep(5)"
   ]
  },
  {
   "cell_type": "code",
   "execution_count": 85,
   "id": "505bdf90",
   "metadata": {},
   "outputs": [
    {
     "data": {
      "text/html": [
       "<div>\n",
       "<style scoped>\n",
       "    .dataframe tbody tr th:only-of-type {\n",
       "        vertical-align: middle;\n",
       "    }\n",
       "\n",
       "    .dataframe tbody tr th {\n",
       "        vertical-align: top;\n",
       "    }\n",
       "\n",
       "    .dataframe thead th {\n",
       "        text-align: right;\n",
       "    }\n",
       "</style>\n",
       "<table border=\"1\" class=\"dataframe\">\n",
       "  <thead>\n",
       "    <tr style=\"text-align: right;\">\n",
       "      <th></th>\n",
       "      <th>Title</th>\n",
       "      <th>Price</th>\n",
       "      <th>Date</th>\n",
       "    </tr>\n",
       "  </thead>\n",
       "  <tbody>\n",
       "    <tr>\n",
       "      <th>0</th>\n",
       "      <td>Sneaker Casual Shoes for Men | Soft Cushioned ...</td>\n",
       "      <td>1,119</td>\n",
       "      <td>2023-10-10</td>\n",
       "    </tr>\n",
       "    <tr>\n",
       "      <th>1</th>\n",
       "      <td>Sneaker Casual Shoes for Men | Soft Cushioned ...</td>\n",
       "      <td>1,119</td>\n",
       "      <td>2023-10-10</td>\n",
       "    </tr>\n",
       "    <tr>\n",
       "      <th>2</th>\n",
       "      <td>Sneaker Casual Shoes for Men | Soft Cushioned ...</td>\n",
       "      <td>1,119</td>\n",
       "      <td>2023-10-10</td>\n",
       "    </tr>\n",
       "  </tbody>\n",
       "</table>\n",
       "</div>"
      ],
      "text/plain": [
       "                                               Title  Price        Date\n",
       "0  Sneaker Casual Shoes for Men | Soft Cushioned ...  1,119  2023-10-10\n",
       "1  Sneaker Casual Shoes for Men | Soft Cushioned ...  1,119  2023-10-10\n",
       "2  Sneaker Casual Shoes for Men | Soft Cushioned ...  1,119  2023-10-10"
      ]
     },
     "execution_count": 85,
     "metadata": {},
     "output_type": "execute_result"
    }
   ],
   "source": [
    "import pandas as pd\n",
    "df = pd.read_csv(r\"C:\\Users\\dkamr\\Documents\\Untitled Folder\\FlipkartWSDataset.csv\" )\n",
    "df"
   ]
  }
 ],
 "metadata": {
  "kernelspec": {
   "display_name": "Python 3 (ipykernel)",
   "language": "python",
   "name": "python3"
  },
  "language_info": {
   "codemirror_mode": {
    "name": "ipython",
    "version": 3
   },
   "file_extension": ".py",
   "mimetype": "text/x-python",
   "name": "python",
   "nbconvert_exporter": "python",
   "pygments_lexer": "ipython3",
   "version": "3.11.4"
  }
 },
 "nbformat": 4,
 "nbformat_minor": 5
}
